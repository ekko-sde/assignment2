{
 "cells": [
  {
   "cell_type": "code",
   "execution_count": 12,
   "id": "42dc51fe-4fff-4d51-9254-fb1d80aed0cd",
   "metadata": {},
   "outputs": [
    {
     "name": "stdout",
     "output_type": "stream",
     "text": [
      "Enriched data saved to enriched_australian_users_items.csv\n"
     ]
    }
   ],
   "source": [
    "import gzip\n",
    "import pandas as pd\n",
    "import ast\n",
    "\n",
    "def parse(path):\n",
    "    with gzip.open(path, 'rt', encoding='utf-8') as g:\n",
    "        for l in g:\n",
    "            yield ast.literal_eval(l)\n",
    "\n",
    "def load_steam_games(filepath):\n",
    "    steam_games = []\n",
    "    for record in parse(filepath):\n",
    "        app_id = record.get('id') \n",
    "        genres = record.get('genres', [])  \n",
    "        steam_games.append({'item_id': app_id, 'genres': genres})\n",
    "    return pd.DataFrame(steam_games)\n",
    "\n",
    "def load_user_items(filepath):\n",
    "    user_items = []\n",
    "    for record in parse(filepath):\n",
    "        user_id = record.get('user_id')\n",
    "        for item in record.get('items', []):\n",
    "            user_items.append({\n",
    "                'user_id': user_id,\n",
    "                'item_id': item.get('item_id'),\n",
    "                'item_name': item.get('item_name'),\n",
    "                'playtime_forever': item.get('playtime_forever', 0),\n",
    "                'playtime_2weeks': item.get('playtime_2weeks', 0),\n",
    "                'genre': item.get('genre', None),\n",
    "                'purchase': item.get('purchase', None)\n",
    "            })\n",
    "    return pd.DataFrame(user_items)\n",
    "\n",
    "\n",
    "def enrich_user_data_with_genres(user_items_df, steam_games_df):\n",
    "    steam_games_df['genres'] = steam_games_df['genres'].apply(lambda x: ', '.join(x) if isinstance(x, list) else None)\n",
    "    enriched_df = pd.merge(user_items_df, steam_games_df, on='item_id', how='left')\n",
    "    enriched_df['genre'] = enriched_df['genre'].combine_first(enriched_df['genres'])\n",
    "    enriched_df.drop(columns=['genres'], inplace=True)\n",
    "    return enriched_df\n",
    "\n",
    "user_items_path = 'australian_users_items.json.gz'\n",
    "steam_games_path = 'steam_games.json.gz'\n",
    "\n",
    "user_items_df = load_user_items(user_items_path)\n",
    "steam_games_df = load_steam_games(steam_games_path)\n",
    "\n",
    "enriched_user_items_df = enrich_user_data_with_genres(user_items_df, steam_games_df)\n",
    "\n",
    "output_path = 'enriched_australian_users_items.csv'\n",
    "enriched_user_items_df.to_csv(output_path, index=False)\n",
    "\n",
    "print(f\"Enriched data saved to {output_path}\")\n",
    "\n"
   ]
  },
  {
   "cell_type": "code",
   "execution_count": null,
   "id": "c22af674-ac7f-42a4-8e2f-8710f26f234c",
   "metadata": {},
   "outputs": [],
   "source": []
  }
 ],
 "metadata": {
  "kernelspec": {
   "display_name": "Python 3 (ipykernel)",
   "language": "python",
   "name": "python3"
  },
  "language_info": {
   "codemirror_mode": {
    "name": "ipython",
    "version": 3
   },
   "file_extension": ".py",
   "mimetype": "text/x-python",
   "name": "python",
   "nbconvert_exporter": "python",
   "pygments_lexer": "ipython3",
   "version": "3.9.20"
  }
 },
 "nbformat": 4,
 "nbformat_minor": 5
}
