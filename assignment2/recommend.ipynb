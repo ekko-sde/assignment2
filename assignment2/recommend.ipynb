{
 "cells": [
  {
   "cell_type": "code",
   "execution_count": 1,
   "id": "3b48d1b5-d079-4817-bc8c-27b73c93f642",
   "metadata": {},
   "outputs": [
    {
     "name": "stdout",
     "output_type": "stream",
     "text": [
      "协同过滤推荐： ['Mortal Kombat Komplete Edition', 'Cities in Motion 2', 'PixelJunk™ Monsters Ultimate', 'Tactical Intervention', 'Fate of the World']\n"
     ]
    }
   ],
   "source": [
    "import pandas as pd\n",
    "from sklearn.metrics.pairwise import cosine_similarity\n",
    "from scipy.sparse import csr_matrix\n",
    "\n",
    "\n",
    "def build_user_game_matrix(df, min_games=5, min_users=5):\n",
    "    game_counts = df['item_name'].value_counts()\n",
    "    popular_games = game_counts[game_counts >= min_games].index\n",
    "    df = df[df['item_name'].isin(popular_games)]\n",
    "    user_counts = df['user_id'].value_counts()\n",
    "    active_users = user_counts[user_counts >= min_users].index\n",
    "    df = df[df['user_id'].isin(active_users)]\n",
    "    pivot_table = df.pivot_table(index='user_id', columns='item_name', values='playtime_forever', fill_value=0)\n",
    "    sparse_matrix = csr_matrix(pivot_table.values)\n",
    "    return sparse_matrix, pivot_table\n",
    "\n",
    "\n",
    "def collaborative_filtering_recommendations(user_id, user_game_matrix, pivot_table, n_recommendations=5):\n",
    "    try:\n",
    "        user_index = list(pivot_table.index).index(user_id)\n",
    "    except ValueError:\n",
    "        print(f\"用户 {user_id} 不在数据集中。\")\n",
    "        return []\n",
    "    similarity = cosine_similarity(user_game_matrix[user_index], user_game_matrix).flatten()\n",
    "    similar_users = similarity.argsort()[::-1][1:n_recommendations + 1]\n",
    "    similar_users_ids = pivot_table.index[similar_users]\n",
    "    recommendations = set()\n",
    "    for similar_user in similar_users_ids:\n",
    "        recommendations.update(pivot_table.loc[similar_user][pivot_table.loc[similar_user] > 0].index)\n",
    "    played_games = set(pivot_table.loc[user_id][pivot_table.loc[user_id] > 0].index)\n",
    "    recommendations = recommendations - played_games \n",
    "    return list(recommendations)[:n_recommendations]\n",
    "\n",
    "\n",
    "def main_task_two(df, user_id):\n",
    "\n",
    "    user_game_matrix, pivot_table = build_user_game_matrix(df)\n",
    "    recommendations = collaborative_filtering_recommendations(user_id, user_game_matrix, pivot_table)\n",
    "    print(\"协同过滤推荐：\", recommendations)\n",
    "\n",
    "df = pd.read_csv('enriched_australian_users_items.csv')\n",
    "\n",
    "user_id = '76561197970982479'  \n",
    "main_task_two(df, user_id)\n"
   ]
  },
  {
   "cell_type": "code",
   "execution_count": null,
   "id": "b948486e-cc9a-4b33-bd28-e773122cbf90",
   "metadata": {},
   "outputs": [],
   "source": []
  }
 ],
 "metadata": {
  "kernelspec": {
   "display_name": "Python 3 (ipykernel)",
   "language": "python",
   "name": "python3"
  },
  "language_info": {
   "codemirror_mode": {
    "name": "ipython",
    "version": 3
   },
   "file_extension": ".py",
   "mimetype": "text/x-python",
   "name": "python",
   "nbconvert_exporter": "python",
   "pygments_lexer": "ipython3",
   "version": "3.9.20"
  }
 },
 "nbformat": 4,
 "nbformat_minor": 5
}
